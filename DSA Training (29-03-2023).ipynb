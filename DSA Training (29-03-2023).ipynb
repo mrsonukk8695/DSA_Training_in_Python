{
 "cells": [
  {
   "cell_type": "code",
   "execution_count": 1,
   "id": "d6c94405",
   "metadata": {},
   "outputs": [],
   "source": [
    "class MyNode:\n",
    "  def __init__(self,data=None, addr=None):\n",
    "    self.data=data\n",
    "    self.addr=addr\n",
    "class LinkList:\n",
    "  def __init__(self):\n",
    "    self.head=None\n",
    "  def insert_opr(self, data):\n",
    "    first_Node=MyNode(data)\n",
    "    if (self.head):\n",
    "      current=self.head\n",
    "      while(current.addr):\n",
    "        current=current.addr\n",
    "      current.addr=first_Node\n",
    "    else:\n",
    "      self.head=first_Node\n",
    "  def display_ll(self):\n",
    "    current=self.head\n",
    "    while (current):\n",
    "      print(current.data)\n",
    "      print(current.addr)\n",
    "      current=current.addr"
   ]
  },
  {
   "cell_type": "code",
   "execution_count": 2,
   "id": "b165247c",
   "metadata": {},
   "outputs": [],
   "source": [
    "obj_ll= LinkList()\n",
    "obj_ll.display_ll()\n",
    "obj_ll.insert_opr(1)\n",
    "obj_ll.insert_opr(8)\n",
    "obj_ll.insert_opr(67)\n",
    "obj_ll.insert_opr(3)\n",
    "obj_ll.insert_opr(6)\n",
    "obj_ll.insert_opr(10)"
   ]
  },
  {
   "cell_type": "code",
   "execution_count": 3,
   "id": "3eb13e55",
   "metadata": {},
   "outputs": [],
   "source": [
    "Obj1 =MyNode(12)\n",
    "Obj2=MyNode(20,129)"
   ]
  },
  {
   "cell_type": "code",
   "execution_count": 4,
   "id": "5fe0b3eb",
   "metadata": {},
   "outputs": [
    {
     "name": "stdout",
     "output_type": "stream",
     "text": [
      "12\n",
      "None\n",
      "20\n",
      "129\n"
     ]
    }
   ],
   "source": [
    "print(Obj1.data)\n",
    "print(Obj1.addr)\n",
    "print(Obj2.data)\n",
    "print(Obj2.addr)"
   ]
  },
  {
   "cell_type": "code",
   "execution_count": null,
   "id": "6dc48a49",
   "metadata": {},
   "outputs": [],
   "source": []
  }
 ],
 "metadata": {
  "kernelspec": {
   "display_name": "Python 3 (ipykernel)",
   "language": "python",
   "name": "python3"
  },
  "language_info": {
   "codemirror_mode": {
    "name": "ipython",
    "version": 3
   },
   "file_extension": ".py",
   "mimetype": "text/x-python",
   "name": "python",
   "nbconvert_exporter": "python",
   "pygments_lexer": "ipython3",
   "version": "3.10.9"
  }
 },
 "nbformat": 4,
 "nbformat_minor": 5
}
