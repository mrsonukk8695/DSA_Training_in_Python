{
 "cells": [
  {
   "cell_type": "code",
   "execution_count": 1,
   "metadata": {},
   "outputs": [],
   "source": [
    "class MyNode:\n",
    "    def __init__(self,value=None):\n",
    "        self.value=value\n",
    "        self.next=None"
   ]
  },
  {
   "cell_type": "code",
   "execution_count": null,
   "metadata": {},
   "outputs": [],
   "source": [
    "class MyLinkedList:\n",
    "    def __init__(self):\n",
    "        self.head=None\n",
    "    def __iter__(self):\n",
    "        curNode=self.head\n",
    "        while curNode:\n",
    "            yield curNode\n",
    "            curNode=curNode.next"
   ]
  },
  {
   "cell_type": "code",
   "execution_count": null,
   "metadata": {},
   "outputs": [],
   "source": [
    "class MyStackLinkedList:\n",
    "    def __init__(self):\n",
    "        self.LinkedList=MyLinkedList()\n",
    "    def IsEmpty(self):\n",
    "        if self.LinkedList.head==None:\n",
    "            return True\n",
    "        else:\n",
    "            return False\n",
    "    def push(self, value):\n",
    "        node=MyNode(value)\n",
    "        node.next=self.LinkedList.head\n",
    "        self.LinkedList.head=node\n",
    "    def pop(self):\n",
    "        if self.IsEmpty():\n",
    "            return \"There is no element in the LinkedList\"\n",
    "        else:\n",
    "            nodevalue=self.LinkedList.head.value\n",
    "            self.LinkedList.head=self.LinkedList.head.next\n",
    "            return nodevalue\n",
    "    def peek(self):\n",
    "        if self.IsEmpty():\n",
    "            return \"There is no element in the LinkedList\"\n",
    "        else:\n",
    "            nodeValue=self.LinkedList.head.value\n",
    "            return nodeValue\n",
    "    def delete(self):\n",
    "        self.LinkedListt.head=None\n",
    "    def __str__(self):\n",
    "        values=[(i.value)for i in self.LinkedList]\n",
    "        return \"\\n\".join(values)"
   ]
  },
  {
   "cell_type": "code",
   "execution_count": null,
   "metadata": {},
   "outputs": [],
   "source": [
    "Obj_stack=MyStackLinkedList()\n",
    "Obj_stack.push(50)\n",
    "Obj_stack.push(35)\n",
    "Obj_stack.push(20)\n",
    "Obj_stack.push(90)\n",
    "print(Obj_stack.pop())\n",
    "Obj_stack.peek()"
   ]
  },
  {
   "cell_type": "code",
   "execution_count": null,
   "metadata": {},
   "outputs": [],
   "source": []
  }
 ],
 "metadata": {
  "kernelspec": {
   "display_name": "base",
   "language": "python",
   "name": "python3"
  },
  "language_info": {
   "codemirror_mode": {
    "name": "ipython",
    "version": 3
   },
   "file_extension": ".py",
   "mimetype": "text/x-python",
   "name": "python",
   "nbconvert_exporter": "python",
   "pygments_lexer": "ipython3",
   "version": "3.9.12"
  },
  "orig_nbformat": 4
 },
 "nbformat": 4,
 "nbformat_minor": 2
}
