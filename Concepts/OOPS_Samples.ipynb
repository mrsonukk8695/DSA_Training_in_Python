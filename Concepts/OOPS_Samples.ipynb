{
 "cells": [
  {
   "cell_type": "code",
   "execution_count": null,
   "metadata": {},
   "outputs": [],
   "source": [
    "class Mytest:\n",
    "    var_1=\"this is class\"           # static variable/class variable\n",
    "    def __init__(self,a):\n",
    "        print(\"This is init method\")\n",
    "        self.a=a                    # instance variable\n",
    "    def display(self):\n",
    "        var_2=\"local Variable\"      # Local variable\n",
    "        print(\"This is Display section\")\n",
    "        print(Mytest.var_1)         # Best one\n",
    "        print(self.var_1)\n",
    "        print(\"_init_\",self.a)"
   ]
  },
  {
   "cell_type": "code",
   "execution_count": null,
   "metadata": {},
   "outputs": [],
   "source": [
    "Myobj1=Mytest(20)\n",
    "Myobj2=Mytest(50)\n",
    "Myobj1.var_1"
   ]
  },
  {
   "cell_type": "code",
   "execution_count": null,
   "metadata": {},
   "outputs": [],
   "source": [
    "#Mytest()"
   ]
  },
  {
   "cell_type": "code",
   "execution_count": null,
   "metadata": {},
   "outputs": [],
   "source": [
    "print(Mytest.__init__)\n",
    "print(Myobj1.__init__)\n",
    "print(Myobj2.__init__)\n",
    "print(Mytest.__dir__)"
   ]
  },
  {
   "cell_type": "code",
   "execution_count": null,
   "metadata": {},
   "outputs": [],
   "source": [
    "print(Myobj1.display())\n",
    "print(Myobj2.display())"
   ]
  },
  {
   "attachments": {},
   "cell_type": "markdown",
   "metadata": {},
   "source": [
    "################################################################################################"
   ]
  },
  {
   "cell_type": "code",
   "execution_count": 20,
   "metadata": {},
   "outputs": [],
   "source": [
    "#   Parameterized Constructor. \n",
    "class Myclass:\n",
    "    def __init__(self,first_name,last_name,age,marks):\n",
    "        self.first_name=first_name\n",
    "        self.last_name=last_name\n",
    "        self.age=age\n",
    "        self.marks=marks\n",
    "    def display(self):\n",
    "        print(self.first_name,self.last_name,self.age,self.marks)\n",
    "\n"
   ]
  },
  {
   "attachments": {},
   "cell_type": "markdown",
   "metadata": {},
   "source": [
    "student1=Myclass()         # Wrong type of calling"
   ]
  },
  {
   "cell_type": "code",
   "execution_count": 25,
   "metadata": {},
   "outputs": [
    {
     "name": "stdout",
     "output_type": "stream",
     "text": [
      "Device guys 21 90\n",
      "Master Anonymous 21 92\n"
     ]
    }
   ],
   "source": [
    "student1=Myclass(\"Master\",\"Anonymous\",21,92)\n",
    "student2=Myclass(\"Device\",\"guys\",21,90)\n",
    "student2.display()\n",
    "student1.display()"
   ]
  },
  {
   "attachments": {},
   "cell_type": "markdown",
   "metadata": {},
   "source": [
    "################################################################################################"
   ]
  },
  {
   "cell_type": "code",
   "execution_count": null,
   "metadata": {},
   "outputs": [],
   "source": []
  }
 ],
 "metadata": {
  "kernelspec": {
   "display_name": "base",
   "language": "python",
   "name": "python3"
  },
  "language_info": {
   "codemirror_mode": {
    "name": "ipython",
    "version": 3
   },
   "file_extension": ".py",
   "mimetype": "text/x-python",
   "name": "python",
   "nbconvert_exporter": "python",
   "pygments_lexer": "ipython3",
   "version": "3.10.9"
  },
  "orig_nbformat": 4
 },
 "nbformat": 4,
 "nbformat_minor": 2
}
