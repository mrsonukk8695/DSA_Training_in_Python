{
 "cells": [
  {
   "cell_type": "markdown",
   "metadata": {
    "id": "KDb2ZjdC5msh"
   },
   "source": [
    "Node Creation"
   ]
  },
  {
   "cell_type": "code",
   "execution_count": 1,
   "metadata": {
    "id": "IpZB-TeT3ogq"
   },
   "outputs": [],
   "source": [
    "class MyNode:\n",
    "  def __init__(self,data=None, addr=None):\n",
    "    self.data=data\n",
    "    self.addr=addr\n",
    "class LinkList:\n",
    "  def __init__(self):\n",
    "    self.head=None\n",
    "  def insert_opr(self,data):\n",
    "    first_Node=MyNode(data)\n",
    "    if (self.head):\n",
    "      current=self.head\n",
    "      while(current.addr):\n",
    "        current=current.addr\n",
    "      current.addr=first_Node\n",
    "    else:\n",
    "      self.head=first_Node\n",
    "  def display_ll(self):\n",
    "    current=self.head\n",
    "    while (current):\n",
    "      print(current.data)\n",
    "      print(current.addr)\n",
    "      current=current.addr"
   ]
  },
  {
   "cell_type": "code",
   "execution_count": 2,
   "metadata": {
    "id": "Wb95m_Vd6gE8"
   },
   "outputs": [],
   "source": [
    "#obj_ll=LinkList(12)  #not possible here bec. there is no formal parameter to take that values\n",
    "obj_ll= LinkList()"
   ]
  },
  {
   "cell_type": "code",
   "execution_count": 3,
   "metadata": {
    "id": "XwdQZ2a17MVD"
   },
   "outputs": [],
   "source": [
    "#obj_ll.display_ll()\n",
    "obj_ll.insert_opr(1)\n",
    "obj_ll.insert_opr(8)\n",
    "obj_ll.insert_opr(67)\n",
    "obj_ll.insert_opr(3)\n",
    "obj_ll.insert_opr(6)\n",
    "obj_ll.insert_opr(10)"
   ]
  },
  {
   "cell_type": "code",
   "execution_count": 4,
   "metadata": {
    "colab": {
     "base_uri": "https://localhost:8080/"
    },
    "id": "G0RD03HH7Ytb",
    "outputId": "7634285e-2608-48c9-b8a1-4610260b106c"
   },
   "outputs": [
    {
     "name": "stdout",
     "output_type": "stream",
     "text": [
      "1\n",
      "<__main__.MyNode object at 0x000001ED93BCE8C0>\n",
      "8\n",
      "<__main__.MyNode object at 0x000001ED93BCC0D0>\n",
      "67\n",
      "<__main__.MyNode object at 0x000001ED93BCE6B0>\n",
      "3\n",
      "<__main__.MyNode object at 0x000001ED93BCFDF0>\n",
      "6\n",
      "<__main__.MyNode object at 0x000001ED93BCEEC0>\n",
      "10\n",
      "None\n"
     ]
    }
   ],
   "source": [
    "obj_ll.display_ll()"
   ]
  },
  {
   "cell_type": "code",
   "execution_count": 5,
   "metadata": {
    "id": "ksMt-Qzq4PPE"
   },
   "outputs": [],
   "source": [
    "Obj1 =MyNode(12)\n",
    "Obj2=MyNode(20,129)"
   ]
  },
  {
   "cell_type": "code",
   "execution_count": 6,
   "metadata": {
    "colab": {
     "base_uri": "https://localhost:8080/"
    },
    "id": "8YzLttDi4cSa",
    "outputId": "eda914a0-54be-4033-8f90-2616bc438ca9"
   },
   "outputs": [
    {
     "name": "stdout",
     "output_type": "stream",
     "text": [
      "12\n",
      "None\n",
      "20\n",
      "129\n"
     ]
    }
   ],
   "source": [
    "print(Obj1.data)\n",
    "print(Obj1.addr)\n",
    "print(Obj2.data)\n",
    "print(Obj2.addr)\n"
   ]
  },
  {
   "cell_type": "markdown",
   "metadata": {
    "id": "-3dd2NlT5uoZ"
   },
   "source": [
    "Connecting the two nodes to each other"
   ]
  },
  {
   "cell_type": "code",
   "execution_count": null,
   "metadata": {
    "id": "1B0KR6_85z-0"
   },
   "outputs": [],
   "source": []
  }
 ],
 "metadata": {
  "colab": {
   "provenance": []
  },
  "kernelspec": {
   "display_name": "Python 3 (ipykernel)",
   "language": "python",
   "name": "python3"
  },
  "language_info": {
   "codemirror_mode": {
    "name": "ipython",
    "version": 3
   },
   "file_extension": ".py",
   "mimetype": "text/x-python",
   "name": "python",
   "nbconvert_exporter": "python",
   "pygments_lexer": "ipython3",
   "version": "3.10.9"
  }
 },
 "nbformat": 4,
 "nbformat_minor": 1
}
